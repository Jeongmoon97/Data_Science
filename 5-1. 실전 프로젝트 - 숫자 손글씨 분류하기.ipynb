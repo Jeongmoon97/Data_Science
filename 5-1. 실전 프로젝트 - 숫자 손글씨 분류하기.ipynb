{
 "cells": [
  {
   "cell_type": "markdown",
   "metadata": {},
   "source": [
    "# 숫자 손글씨 분류하기\n",
    "\n",
    "- 출처 : http://yann.lecun.com/exdb/mnist/\n",
    "\n",
    "#### 문제 정의\n",
    "28x28 픽셀의 손글씨 숫자 이미지를 입력받아 실제로 의미하는 숫자를 인식한다.\n",
    "\n",
    "#### 가설 수립\n",
    "28x28 픽셀 데이터, 즉 784종의 특징 데이터를 구성한 후 머신러닝을 통해 실제로 어떤 숫자인지 추측할 수 있다.\n",
    "\n",
    "#### 목표\n",
    "28x28 사이즈의 숫자 손글씨 이미지로 부터 label값을 얻어낸다.\n",
    "\n",
    "#### 데이터 구성\n",
    "- 784개 입력 데이터 : 28x28 픽셀이므로 총 784칸의 픽셀 값 정보\n",
    "- 출력 데이터 : label(어떤 숫자인가?)\n",
    "- 개수 : 10,000개\n",
    "\n",
    "#### 분석 가이드\n",
    "1. 문제를 이해합니다.  이미지의 각 픽셀을 특징 데이터로 취급하여 어떤 숫자인지 인식하는 문제입니다.\n",
    "2. EDA 및 Feature Engineering을 실시합니다.  어떤 식으로 이미지의 픽셀을 특징 데이터로 구성하였는지 파악합니다.\n",
    "3. 가설 검증 계획을 수립합니다.  classfication을 다루는 머신러닝 모델링\n",
    "4. 데이터셋을 구성합니다.  상황과 목적에 따라 적절한 train set, (validation set), test set을 구성합니다.\n",
    "5. 모델링하고 학습합니다.  DecisionTreeClassifier, RandomForestClassifier, …\n",
    "6. 모델을 평가하고 검증합니다.\n",
    "7. 최종 결론을 도출합니다.  000모델을 통해 000의 정확도로 숫자 손글씨를 OCR할 수 있다.\n",
    "\n",
    "#### 코딩 시나리오\n",
    "1. 데이터를 불러옵니다.\n",
    "2. EDA 및 Feature Engineering을 실시합니다.\n",
    "3. 데이터셋을 구성합니다.\n",
    "4. 모델링하고 학습합니다.\n",
    "5. 모델을 평가하고 검증합니다.\n",
    "6. 최종 결론을 도출합니다."
   ]
  },
  {
   "cell_type": "markdown",
   "metadata": {},
   "source": [
    "## 1. 데이터 불러오기"
   ]
  },
  {
   "cell_type": "code",
   "execution_count": 1,
   "metadata": {},
   "outputs": [],
   "source": [
    "import pandas as pd\n",
    "import numpy as np"
   ]
  },
  {
   "cell_type": "code",
   "execution_count": 2,
   "metadata": {},
   "outputs": [
    {
     "data": {
      "text/html": [
       "<div>\n",
       "<style scoped>\n",
       "    .dataframe tbody tr th:only-of-type {\n",
       "        vertical-align: middle;\n",
       "    }\n",
       "\n",
       "    .dataframe tbody tr th {\n",
       "        vertical-align: top;\n",
       "    }\n",
       "\n",
       "    .dataframe thead th {\n",
       "        text-align: right;\n",
       "    }\n",
       "</style>\n",
       "<table border=\"1\" class=\"dataframe\">\n",
       "  <thead>\n",
       "    <tr style=\"text-align: right;\">\n",
       "      <th></th>\n",
       "      <th>pixel 1,1</th>\n",
       "      <th>pixel 1,2</th>\n",
       "      <th>pixel 1,3</th>\n",
       "      <th>pixel 1,4</th>\n",
       "      <th>pixel 1,5</th>\n",
       "      <th>pixel 1,6</th>\n",
       "      <th>pixel 1,7</th>\n",
       "      <th>pixel 1,8</th>\n",
       "      <th>pixel 1,9</th>\n",
       "      <th>pixel 1,10</th>\n",
       "      <th>...</th>\n",
       "      <th>pixel 28,20</th>\n",
       "      <th>pixel 28,21</th>\n",
       "      <th>pixel 28,22</th>\n",
       "      <th>pixel 28,23</th>\n",
       "      <th>pixel 28,24</th>\n",
       "      <th>pixel 28,25</th>\n",
       "      <th>pixel 28,26</th>\n",
       "      <th>pixel 28,27</th>\n",
       "      <th>pixel 28,28</th>\n",
       "      <th>label</th>\n",
       "    </tr>\n",
       "  </thead>\n",
       "  <tbody>\n",
       "    <tr>\n",
       "      <td>0</td>\n",
       "      <td>0.0</td>\n",
       "      <td>0.0</td>\n",
       "      <td>0.0</td>\n",
       "      <td>0.0</td>\n",
       "      <td>0.0</td>\n",
       "      <td>0.0</td>\n",
       "      <td>0.0</td>\n",
       "      <td>0.0</td>\n",
       "      <td>0.0</td>\n",
       "      <td>0.0</td>\n",
       "      <td>...</td>\n",
       "      <td>0.0</td>\n",
       "      <td>0.0</td>\n",
       "      <td>0.0</td>\n",
       "      <td>0.0</td>\n",
       "      <td>0.0</td>\n",
       "      <td>0.0</td>\n",
       "      <td>0.0</td>\n",
       "      <td>0.0</td>\n",
       "      <td>0.0</td>\n",
       "      <td>4</td>\n",
       "    </tr>\n",
       "    <tr>\n",
       "      <td>1</td>\n",
       "      <td>0.0</td>\n",
       "      <td>0.0</td>\n",
       "      <td>0.0</td>\n",
       "      <td>0.0</td>\n",
       "      <td>0.0</td>\n",
       "      <td>0.0</td>\n",
       "      <td>0.0</td>\n",
       "      <td>0.0</td>\n",
       "      <td>0.0</td>\n",
       "      <td>0.0</td>\n",
       "      <td>...</td>\n",
       "      <td>0.0</td>\n",
       "      <td>0.0</td>\n",
       "      <td>0.0</td>\n",
       "      <td>0.0</td>\n",
       "      <td>0.0</td>\n",
       "      <td>0.0</td>\n",
       "      <td>0.0</td>\n",
       "      <td>0.0</td>\n",
       "      <td>0.0</td>\n",
       "      <td>8</td>\n",
       "    </tr>\n",
       "    <tr>\n",
       "      <td>2</td>\n",
       "      <td>0.0</td>\n",
       "      <td>0.0</td>\n",
       "      <td>0.0</td>\n",
       "      <td>0.0</td>\n",
       "      <td>0.0</td>\n",
       "      <td>0.0</td>\n",
       "      <td>0.0</td>\n",
       "      <td>0.0</td>\n",
       "      <td>0.0</td>\n",
       "      <td>0.0</td>\n",
       "      <td>...</td>\n",
       "      <td>0.0</td>\n",
       "      <td>0.0</td>\n",
       "      <td>0.0</td>\n",
       "      <td>0.0</td>\n",
       "      <td>0.0</td>\n",
       "      <td>0.0</td>\n",
       "      <td>0.0</td>\n",
       "      <td>0.0</td>\n",
       "      <td>0.0</td>\n",
       "      <td>8</td>\n",
       "    </tr>\n",
       "    <tr>\n",
       "      <td>3</td>\n",
       "      <td>0.0</td>\n",
       "      <td>0.0</td>\n",
       "      <td>0.0</td>\n",
       "      <td>0.0</td>\n",
       "      <td>0.0</td>\n",
       "      <td>0.0</td>\n",
       "      <td>0.0</td>\n",
       "      <td>0.0</td>\n",
       "      <td>0.0</td>\n",
       "      <td>0.0</td>\n",
       "      <td>...</td>\n",
       "      <td>0.0</td>\n",
       "      <td>0.0</td>\n",
       "      <td>0.0</td>\n",
       "      <td>0.0</td>\n",
       "      <td>0.0</td>\n",
       "      <td>0.0</td>\n",
       "      <td>0.0</td>\n",
       "      <td>0.0</td>\n",
       "      <td>0.0</td>\n",
       "      <td>7</td>\n",
       "    </tr>\n",
       "    <tr>\n",
       "      <td>4</td>\n",
       "      <td>0.0</td>\n",
       "      <td>0.0</td>\n",
       "      <td>0.0</td>\n",
       "      <td>0.0</td>\n",
       "      <td>0.0</td>\n",
       "      <td>0.0</td>\n",
       "      <td>0.0</td>\n",
       "      <td>0.0</td>\n",
       "      <td>0.0</td>\n",
       "      <td>0.0</td>\n",
       "      <td>...</td>\n",
       "      <td>0.0</td>\n",
       "      <td>0.0</td>\n",
       "      <td>0.0</td>\n",
       "      <td>0.0</td>\n",
       "      <td>0.0</td>\n",
       "      <td>0.0</td>\n",
       "      <td>0.0</td>\n",
       "      <td>0.0</td>\n",
       "      <td>0.0</td>\n",
       "      <td>4</td>\n",
       "    </tr>\n",
       "  </tbody>\n",
       "</table>\n",
       "<p>5 rows × 785 columns</p>\n",
       "</div>"
      ],
      "text/plain": [
       "   pixel 1,1  pixel 1,2  pixel 1,3  pixel 1,4  pixel 1,5  pixel 1,6  \\\n",
       "0        0.0        0.0        0.0        0.0        0.0        0.0   \n",
       "1        0.0        0.0        0.0        0.0        0.0        0.0   \n",
       "2        0.0        0.0        0.0        0.0        0.0        0.0   \n",
       "3        0.0        0.0        0.0        0.0        0.0        0.0   \n",
       "4        0.0        0.0        0.0        0.0        0.0        0.0   \n",
       "\n",
       "   pixel 1,7  pixel 1,8  pixel 1,9  pixel 1,10  ...  pixel 28,20  pixel 28,21  \\\n",
       "0        0.0        0.0        0.0         0.0  ...          0.0          0.0   \n",
       "1        0.0        0.0        0.0         0.0  ...          0.0          0.0   \n",
       "2        0.0        0.0        0.0         0.0  ...          0.0          0.0   \n",
       "3        0.0        0.0        0.0         0.0  ...          0.0          0.0   \n",
       "4        0.0        0.0        0.0         0.0  ...          0.0          0.0   \n",
       "\n",
       "   pixel 28,22  pixel 28,23  pixel 28,24  pixel 28,25  pixel 28,26  \\\n",
       "0          0.0          0.0          0.0          0.0          0.0   \n",
       "1          0.0          0.0          0.0          0.0          0.0   \n",
       "2          0.0          0.0          0.0          0.0          0.0   \n",
       "3          0.0          0.0          0.0          0.0          0.0   \n",
       "4          0.0          0.0          0.0          0.0          0.0   \n",
       "\n",
       "   pixel 28,27  pixel 28,28  label  \n",
       "0          0.0          0.0      4  \n",
       "1          0.0          0.0      8  \n",
       "2          0.0          0.0      8  \n",
       "3          0.0          0.0      7  \n",
       "4          0.0          0.0      4  \n",
       "\n",
       "[5 rows x 785 columns]"
      ]
     },
     "execution_count": 2,
     "metadata": {},
     "output_type": "execute_result"
    }
   ],
   "source": [
    "df=pd.read_csv('data/digit.csv')\n",
    "df.head()"
   ]
  },
  {
   "cell_type": "markdown",
   "metadata": {},
   "source": [
    "## 2. EDA & Feature Engineering\n",
    "\n",
    "#### 일반적으로 OCR 문제에서 고려할만한 요소들\n",
    "1. **이미지를 모두 흑백으로 바꾸기** : 이미지가 컬러든 흑백이든 인식률은 거의 차이가 없습니다. 머신러닝을 용이하게 할 수 있도록 흑백으로 바꿔줍니다.\n",
    "2. **이미지 사이즈를 28 x 28로 조정하기** : 이미지 사이즈가 28x28이 아닐 경우 모델이 작동하지 않습니다. 따라서 입력되는 모든 데이터의 이미지가 균일한 크기가 되도록 조정해줍니다.\n",
    "3. 준비된 이미지 데이터는 이미 위 요소들이 고려되어 있습니다.\n",
    "\n",
    "#### EDA & Feature Engineering 최소 요구사항\n",
    "1. 픽셀 특징이 가지고 있는 최솟값, 최댓값 파악하기\n",
    "2. label(숫자 종류: 0~9)별로 몇개의 데이터가 있는지 시각화하기\n",
    "3. 이미지 살펴보기"
   ]
  },
  {
   "cell_type": "code",
   "execution_count": 3,
   "metadata": {},
   "outputs": [
    {
     "data": {
      "text/html": [
       "<div>\n",
       "<style scoped>\n",
       "    .dataframe tbody tr th:only-of-type {\n",
       "        vertical-align: middle;\n",
       "    }\n",
       "\n",
       "    .dataframe tbody tr th {\n",
       "        vertical-align: top;\n",
       "    }\n",
       "\n",
       "    .dataframe thead th {\n",
       "        text-align: right;\n",
       "    }\n",
       "</style>\n",
       "<table border=\"1\" class=\"dataframe\">\n",
       "  <thead>\n",
       "    <tr style=\"text-align: right;\">\n",
       "      <th></th>\n",
       "      <th>pixel 1,1</th>\n",
       "      <th>pixel 1,2</th>\n",
       "      <th>pixel 1,3</th>\n",
       "      <th>pixel 1,4</th>\n",
       "      <th>pixel 1,5</th>\n",
       "      <th>pixel 1,6</th>\n",
       "      <th>pixel 1,7</th>\n",
       "      <th>pixel 1,8</th>\n",
       "      <th>pixel 1,9</th>\n",
       "      <th>pixel 1,10</th>\n",
       "      <th>...</th>\n",
       "      <th>pixel 28,20</th>\n",
       "      <th>pixel 28,21</th>\n",
       "      <th>pixel 28,22</th>\n",
       "      <th>pixel 28,23</th>\n",
       "      <th>pixel 28,24</th>\n",
       "      <th>pixel 28,25</th>\n",
       "      <th>pixel 28,26</th>\n",
       "      <th>pixel 28,27</th>\n",
       "      <th>pixel 28,28</th>\n",
       "      <th>label</th>\n",
       "    </tr>\n",
       "  </thead>\n",
       "  <tbody>\n",
       "    <tr>\n",
       "      <td>count</td>\n",
       "      <td>10000.0</td>\n",
       "      <td>10000.0</td>\n",
       "      <td>10000.0</td>\n",
       "      <td>10000.0</td>\n",
       "      <td>10000.0</td>\n",
       "      <td>10000.0</td>\n",
       "      <td>10000.0</td>\n",
       "      <td>10000.0</td>\n",
       "      <td>10000.0</td>\n",
       "      <td>10000.0</td>\n",
       "      <td>...</td>\n",
       "      <td>10000.000000</td>\n",
       "      <td>10000.000000</td>\n",
       "      <td>10000.000000</td>\n",
       "      <td>10000.000000</td>\n",
       "      <td>10000.0</td>\n",
       "      <td>10000.0</td>\n",
       "      <td>10000.0</td>\n",
       "      <td>10000.0</td>\n",
       "      <td>10000.0</td>\n",
       "      <td>10000.000000</td>\n",
       "    </tr>\n",
       "    <tr>\n",
       "      <td>mean</td>\n",
       "      <td>0.0</td>\n",
       "      <td>0.0</td>\n",
       "      <td>0.0</td>\n",
       "      <td>0.0</td>\n",
       "      <td>0.0</td>\n",
       "      <td>0.0</td>\n",
       "      <td>0.0</td>\n",
       "      <td>0.0</td>\n",
       "      <td>0.0</td>\n",
       "      <td>0.0</td>\n",
       "      <td>...</td>\n",
       "      <td>0.000480</td>\n",
       "      <td>0.000239</td>\n",
       "      <td>0.000050</td>\n",
       "      <td>0.000025</td>\n",
       "      <td>0.0</td>\n",
       "      <td>0.0</td>\n",
       "      <td>0.0</td>\n",
       "      <td>0.0</td>\n",
       "      <td>0.0</td>\n",
       "      <td>4.453400</td>\n",
       "    </tr>\n",
       "    <tr>\n",
       "      <td>std</td>\n",
       "      <td>0.0</td>\n",
       "      <td>0.0</td>\n",
       "      <td>0.0</td>\n",
       "      <td>0.0</td>\n",
       "      <td>0.0</td>\n",
       "      <td>0.0</td>\n",
       "      <td>0.0</td>\n",
       "      <td>0.0</td>\n",
       "      <td>0.0</td>\n",
       "      <td>0.0</td>\n",
       "      <td>...</td>\n",
       "      <td>0.017804</td>\n",
       "      <td>0.013588</td>\n",
       "      <td>0.003535</td>\n",
       "      <td>0.002500</td>\n",
       "      <td>0.0</td>\n",
       "      <td>0.0</td>\n",
       "      <td>0.0</td>\n",
       "      <td>0.0</td>\n",
       "      <td>0.0</td>\n",
       "      <td>2.884451</td>\n",
       "    </tr>\n",
       "    <tr>\n",
       "      <td>min</td>\n",
       "      <td>0.0</td>\n",
       "      <td>0.0</td>\n",
       "      <td>0.0</td>\n",
       "      <td>0.0</td>\n",
       "      <td>0.0</td>\n",
       "      <td>0.0</td>\n",
       "      <td>0.0</td>\n",
       "      <td>0.0</td>\n",
       "      <td>0.0</td>\n",
       "      <td>0.0</td>\n",
       "      <td>...</td>\n",
       "      <td>0.000000</td>\n",
       "      <td>0.000000</td>\n",
       "      <td>0.000000</td>\n",
       "      <td>0.000000</td>\n",
       "      <td>0.0</td>\n",
       "      <td>0.0</td>\n",
       "      <td>0.0</td>\n",
       "      <td>0.0</td>\n",
       "      <td>0.0</td>\n",
       "      <td>0.000000</td>\n",
       "    </tr>\n",
       "    <tr>\n",
       "      <td>25%</td>\n",
       "      <td>0.0</td>\n",
       "      <td>0.0</td>\n",
       "      <td>0.0</td>\n",
       "      <td>0.0</td>\n",
       "      <td>0.0</td>\n",
       "      <td>0.0</td>\n",
       "      <td>0.0</td>\n",
       "      <td>0.0</td>\n",
       "      <td>0.0</td>\n",
       "      <td>0.0</td>\n",
       "      <td>...</td>\n",
       "      <td>0.000000</td>\n",
       "      <td>0.000000</td>\n",
       "      <td>0.000000</td>\n",
       "      <td>0.000000</td>\n",
       "      <td>0.0</td>\n",
       "      <td>0.0</td>\n",
       "      <td>0.0</td>\n",
       "      <td>0.0</td>\n",
       "      <td>0.0</td>\n",
       "      <td>2.000000</td>\n",
       "    </tr>\n",
       "    <tr>\n",
       "      <td>50%</td>\n",
       "      <td>0.0</td>\n",
       "      <td>0.0</td>\n",
       "      <td>0.0</td>\n",
       "      <td>0.0</td>\n",
       "      <td>0.0</td>\n",
       "      <td>0.0</td>\n",
       "      <td>0.0</td>\n",
       "      <td>0.0</td>\n",
       "      <td>0.0</td>\n",
       "      <td>0.0</td>\n",
       "      <td>...</td>\n",
       "      <td>0.000000</td>\n",
       "      <td>0.000000</td>\n",
       "      <td>0.000000</td>\n",
       "      <td>0.000000</td>\n",
       "      <td>0.0</td>\n",
       "      <td>0.0</td>\n",
       "      <td>0.0</td>\n",
       "      <td>0.0</td>\n",
       "      <td>0.0</td>\n",
       "      <td>4.000000</td>\n",
       "    </tr>\n",
       "    <tr>\n",
       "      <td>75%</td>\n",
       "      <td>0.0</td>\n",
       "      <td>0.0</td>\n",
       "      <td>0.0</td>\n",
       "      <td>0.0</td>\n",
       "      <td>0.0</td>\n",
       "      <td>0.0</td>\n",
       "      <td>0.0</td>\n",
       "      <td>0.0</td>\n",
       "      <td>0.0</td>\n",
       "      <td>0.0</td>\n",
       "      <td>...</td>\n",
       "      <td>0.000000</td>\n",
       "      <td>0.000000</td>\n",
       "      <td>0.000000</td>\n",
       "      <td>0.000000</td>\n",
       "      <td>0.0</td>\n",
       "      <td>0.0</td>\n",
       "      <td>0.0</td>\n",
       "      <td>0.0</td>\n",
       "      <td>0.0</td>\n",
       "      <td>7.000000</td>\n",
       "    </tr>\n",
       "    <tr>\n",
       "      <td>max</td>\n",
       "      <td>0.0</td>\n",
       "      <td>0.0</td>\n",
       "      <td>0.0</td>\n",
       "      <td>0.0</td>\n",
       "      <td>0.0</td>\n",
       "      <td>0.0</td>\n",
       "      <td>0.0</td>\n",
       "      <td>0.0</td>\n",
       "      <td>0.0</td>\n",
       "      <td>0.0</td>\n",
       "      <td>...</td>\n",
       "      <td>0.988281</td>\n",
       "      <td>0.988281</td>\n",
       "      <td>0.250000</td>\n",
       "      <td>0.250000</td>\n",
       "      <td>0.0</td>\n",
       "      <td>0.0</td>\n",
       "      <td>0.0</td>\n",
       "      <td>0.0</td>\n",
       "      <td>0.0</td>\n",
       "      <td>9.000000</td>\n",
       "    </tr>\n",
       "  </tbody>\n",
       "</table>\n",
       "<p>8 rows × 785 columns</p>\n",
       "</div>"
      ],
      "text/plain": [
       "       pixel 1,1  pixel 1,2  pixel 1,3  pixel 1,4  pixel 1,5  pixel 1,6  \\\n",
       "count    10000.0    10000.0    10000.0    10000.0    10000.0    10000.0   \n",
       "mean         0.0        0.0        0.0        0.0        0.0        0.0   \n",
       "std          0.0        0.0        0.0        0.0        0.0        0.0   \n",
       "min          0.0        0.0        0.0        0.0        0.0        0.0   \n",
       "25%          0.0        0.0        0.0        0.0        0.0        0.0   \n",
       "50%          0.0        0.0        0.0        0.0        0.0        0.0   \n",
       "75%          0.0        0.0        0.0        0.0        0.0        0.0   \n",
       "max          0.0        0.0        0.0        0.0        0.0        0.0   \n",
       "\n",
       "       pixel 1,7  pixel 1,8  pixel 1,9  pixel 1,10  ...   pixel 28,20  \\\n",
       "count    10000.0    10000.0    10000.0     10000.0  ...  10000.000000   \n",
       "mean         0.0        0.0        0.0         0.0  ...      0.000480   \n",
       "std          0.0        0.0        0.0         0.0  ...      0.017804   \n",
       "min          0.0        0.0        0.0         0.0  ...      0.000000   \n",
       "25%          0.0        0.0        0.0         0.0  ...      0.000000   \n",
       "50%          0.0        0.0        0.0         0.0  ...      0.000000   \n",
       "75%          0.0        0.0        0.0         0.0  ...      0.000000   \n",
       "max          0.0        0.0        0.0         0.0  ...      0.988281   \n",
       "\n",
       "        pixel 28,21   pixel 28,22   pixel 28,23  pixel 28,24  pixel 28,25  \\\n",
       "count  10000.000000  10000.000000  10000.000000      10000.0      10000.0   \n",
       "mean       0.000239      0.000050      0.000025          0.0          0.0   \n",
       "std        0.013588      0.003535      0.002500          0.0          0.0   \n",
       "min        0.000000      0.000000      0.000000          0.0          0.0   \n",
       "25%        0.000000      0.000000      0.000000          0.0          0.0   \n",
       "50%        0.000000      0.000000      0.000000          0.0          0.0   \n",
       "75%        0.000000      0.000000      0.000000          0.0          0.0   \n",
       "max        0.988281      0.250000      0.250000          0.0          0.0   \n",
       "\n",
       "       pixel 28,26  pixel 28,27  pixel 28,28         label  \n",
       "count      10000.0      10000.0      10000.0  10000.000000  \n",
       "mean           0.0          0.0          0.0      4.453400  \n",
       "std            0.0          0.0          0.0      2.884451  \n",
       "min            0.0          0.0          0.0      0.000000  \n",
       "25%            0.0          0.0          0.0      2.000000  \n",
       "50%            0.0          0.0          0.0      4.000000  \n",
       "75%            0.0          0.0          0.0      7.000000  \n",
       "max            0.0          0.0          0.0      9.000000  \n",
       "\n",
       "[8 rows x 785 columns]"
      ]
     },
     "execution_count": 3,
     "metadata": {},
     "output_type": "execute_result"
    }
   ],
   "source": [
    "df.describe()"
   ]
  },
  {
   "cell_type": "code",
   "execution_count": 4,
   "metadata": {},
   "outputs": [],
   "source": [
    "import matplotlib.pyplot as plt\n",
    "%matplotlib inline\n",
    "\n",
    "import seaborn as sns\n",
    "sns.set()"
   ]
  },
  {
   "cell_type": "code",
   "execution_count": 5,
   "metadata": {},
   "outputs": [
    {
     "data": {
      "text/plain": [
       "<seaborn.axisgrid.FacetGrid at 0x2a0fb290d08>"
      ]
     },
     "execution_count": 5,
     "metadata": {},
     "output_type": "execute_result"
    },
    {
     "data": {
      "image/png": "[encoded data removed]",
      "text/plain": [
       "<Figure size 360x360 with 1 Axes>"
      ]
     },
     "metadata": {
      "needs_background": "light"
     },
     "output_type": "display_data"
    }
   ],
   "source": [
    "sns.catplot(data=df, x='label', kind='count')"
   ]
  },
  {
   "cell_type": "code",
   "execution_count": 6,
   "metadata": {},
   "outputs": [
    {
     "data": {
      "image/png": "[encoded data removed]",
      "text/plain": [
       "<Figure size 432x288 with 1 Axes>"
      ]
     },
     "metadata": {
      "needs_background": "light"
     },
     "output_type": "display_data"
    }
   ],
   "source": [
    "numbers=df.drop(['label'],axis=1)\n",
    "nth=9999\n",
    "img=np.reshape(numbers.iloc[nth].values,[28,28])\n",
    "plt.imshow(img)\n",
    "plt.show()"
   ]
  },
  {
   "cell_type": "markdown",
   "metadata": {},
   "source": [
    "## 3. Dataset 구성하기"
   ]
  },
  {
   "cell_type": "code",
   "execution_count": 7,
   "metadata": {},
   "outputs": [
    {
     "name": "stdout",
     "output_type": "stream",
     "text": [
      "(10000, 784) (10000,)\n"
     ]
    }
   ],
   "source": [
    "input_data=df.drop('label', axis=1)\n",
    "target_data=df['label']\n",
    "print(input_data.shape, target_data.shape)"
   ]
  },
  {
   "cell_type": "code",
   "execution_count": 8,
   "metadata": {},
   "outputs": [
    {
     "name": "stdout",
     "output_type": "stream",
     "text": [
      "(10000, 784) (8000, 784) (2000, 784)\n"
     ]
    }
   ],
   "source": [
    "from sklearn.model_selection import train_test_split\n",
    "x_train, x_test, y_train, y_test = train_test_split(input_data, target_data, test_size=0.2)\n",
    "print(input_data.shape, x_train.shape, x_test.shape)"
   ]
  },
  {
   "cell_type": "markdown",
   "metadata": {},
   "source": [
    "## 4. 모델링과 학습 & 모델 검증\n",
    "1. **분류 문제인지 회귀 문제인지 구분합니다.** : 이 문제는 분류 문제입니다.  분석의 결과로 총 10가지 카테고리(0, 1, 2, 3, 4, 5, 6, 7, 8, 9 숫자)가 예측되는 분류(Classification) 문제입니다.\n",
    "2. **분류에 효과적인 모델을 찾아봅니다.** : 타이타닉 문제, 아이리스 문제가 바로 분류 문제였습니다.  우리는 위 상황에서 DecisionTreeClassifier, RandomForestClassifier 모델을 사용하여 문제를 해결하였습니다.\n",
    "3. **학습에 사용할 모델을 선택합니다.** : 학습시간이 짧으므로 최대한 많은 모델들을 실험해보는게 좋습니다.\n",
    "3. **학습을 진행합니다.**\n",
    "4. **모델의 score를 구합니다.**\n",
    "5. **test set을 이용하여 선택한 모델의 최종 성능을 평가합니다.**"
   ]
  },
  {
   "cell_type": "code",
   "execution_count": 9,
   "metadata": {},
   "outputs": [
    {
     "name": "stdout",
     "output_type": "stream",
     "text": [
      "train accuracy: 1.0\n",
      "test accuracy: 0.8\n"
     ]
    }
   ],
   "source": [
    "#Decision Tree\n",
    "from sklearn.tree import DecisionTreeClassifier\n",
    "tree=DecisionTreeClassifier()\n",
    "tree.fit(x_train, y_train)\n",
    "print('train accuracy:', tree.score(x_train, y_train))\n",
    "print('test accuracy:', tree.score(x_test, y_test))"
   ]
  },
  {
   "cell_type": "code",
   "execution_count": 10,
   "metadata": {
    "scrolled": true
   },
   "outputs": [
    {
     "name": "stdout",
     "output_type": "stream",
     "text": [
      "train accuracy: 1.0\n",
      "test accuracy: 0.9435\n"
     ]
    }
   ],
   "source": [
    "#Random Forest\n",
    "from sklearn.ensemble import RandomForestClassifier\n",
    "forest=RandomForestClassifier(n_estimators=100) \n",
    "forest.fit(x_train, y_train)\n",
    "print('train accuracy:', forest.score(x_train, y_train))\n",
    "print('test accuracy:', forest.score(x_test, y_test))"
   ]
  },
  {
   "cell_type": "markdown",
   "metadata": {},
   "source": [
    "#### 실제 예측 결과물 살펴보기"
   ]
  },
  {
   "cell_type": "code",
   "execution_count": 11,
   "metadata": {},
   "outputs": [
    {
     "data": {
      "image/png": "[encoded data removed]",
      "text/plain": [
       "<Figure size 432x288 with 1 Axes>"
      ]
     },
     "metadata": {
      "needs_background": "light"
     },
     "output_type": "display_data"
    },
    {
     "name": "stdout",
     "output_type": "stream",
     "text": [
      "인식된 숫자는 5 입니다.\n"
     ]
    },
    {
     "data": {
      "image/png": "[encoded data removed]",
      "text/plain": [
       "<Figure size 432x288 with 1 Axes>"
      ]
     },
     "metadata": {
      "needs_background": "light"
     },
     "output_type": "display_data"
    },
    {
     "name": "stdout",
     "output_type": "stream",
     "text": [
      "인식된 숫자는 4 입니다.\n"
     ]
    },
    {
     "data": {
      "image/png": "[encoded data removed]",
      "text/plain": [
       "<Figure size 432x288 with 1 Axes>"
      ]
     },
     "metadata": {
      "needs_background": "light"
     },
     "output_type": "display_data"
    },
    {
     "name": "stdout",
     "output_type": "stream",
     "text": [
      "인식된 숫자는 1 입니다.\n"
     ]
    },
    {
     "data": {
      "image/png": "[encoded data removed]",
      "text/plain": [
       "<Figure size 432x288 with 1 Axes>"
      ]
     },
     "metadata": {
      "needs_background": "light"
     },
     "output_type": "display_data"
    },
    {
     "name": "stdout",
     "output_type": "stream",
     "text": [
      "인식된 숫자는 1 입니다.\n"
     ]
    }
   ],
   "source": [
    "#random으로 픽하기\n",
    "import random\n",
    "for i in range(4):\n",
    "    n=random.randrange(0, len(x_test))\n",
    "    img=np.reshape(x_test.iloc[n].values,[28,28])\n",
    "    plt.imshow(img)\n",
    "    plt.show()\n",
    "    result=forest.predict([x_test.iloc[n].values])[0]\n",
    "    print('인식된 숫자는', result, '입니다.')"
   ]
  },
  {
   "cell_type": "markdown",
   "metadata": {},
   "source": [
    "## cf. Support Vector Machine 사용해보기\n",
    "SVM(Support Vecotr Machine)은 Decision Tree, Random Forest와 같이 인기 있는 모델입니다. 사용하기 쉬우면서도 꽤 좋은 성능이 보장되기 때문에 실제로 굉장히 많은 분야에서 쓰이고 있습니다."
   ]
  },
  {
   "cell_type": "code",
   "execution_count": 12,
   "metadata": {},
   "outputs": [
    {
     "name": "stderr",
     "output_type": "stream",
     "text": [
      "C:\\Users\\User\\Anaconda3\\lib\\site-packages\\sklearn\\svm\\base.py:193: FutureWarning: The default value of gamma will change from 'auto' to 'scale' in version 0.22 to account better for unscaled features. Set gamma explicitly to 'auto' or 'scale' to avoid this warning.\n",
      "  \"avoid this warning.\", FutureWarning)\n"
     ]
    },
    {
     "name": "stdout",
     "output_type": "stream",
     "text": [
      "train accuracy: 0.923375\n",
      "test accuracy: 0.916\n"
     ]
    }
   ],
   "source": [
    "from sklearn.svm import SVC\n",
    "model=SVC()\n",
    "model.fit(x_train, y_train)\n",
    "\n",
    "print('train accuracy:', model.score(x_train, y_train))\n",
    "print('test accuracy:', model.score(x_test, y_test))"
   ]
  }
 ],
 "metadata": {
  "kernelspec": {
   "display_name": "Python 3",
   "language": "python",
   "name": "python3"
  },
  "language_info": {
   "codemirror_mode": {
    "name": "ipython",
    "version": 3
   },
   "file_extension": ".py",
   "mimetype": "text/x-python",
   "name": "python",
   "nbconvert_exporter": "python",
   "pygments_lexer": "ipython3",
   "version": "3.7.4"
  }
 },
 "nbformat": 4,
 "nbformat_minor": 2
}
